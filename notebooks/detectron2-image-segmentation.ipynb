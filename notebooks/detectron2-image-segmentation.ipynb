{
  "nbformat": 4,
  "nbformat_minor": 0,
  "metadata": {
    "colab": {
      "name": "04-detectron2-image-segmentation.ipynb",
      "provenance": [],
      "collapsed_sections": [],
      "toc_visible": true
    },
    "kernelspec": {
      "name": "python3",
      "display_name": "Python 3"
    },
    "accelerator": "GPU"
  },
  "cells": [
    {
      "cell_type": "markdown",
      "metadata": {
        "id": "EQb7hHTvjxan",
        "colab_type": "text"
      },
      "source": [
        "# Image Segmentation\n",
        "\n",
        "Trash Panda Data Science: Research and Testing"
      ]
    },
    {
      "cell_type": "markdown",
      "metadata": {
        "id": "kp7CVEBcpVK_",
        "colab_type": "text"
      },
      "source": [
        "---\n",
        "\n",
        "# Detectron2\n",
        "\n",
        "*Similar to Mask R-CNN*\n",
        "\n",
        "Resources:\n",
        "\n",
        "- [How to embed Detectron2 in your cv project](https://medium.com/deepvisionguru/how-to-embed-detectron2-in-your-computer-vision-project-817f29149461)"
      ]
    },
    {
      "cell_type": "markdown",
      "metadata": {
        "id": "vM54r6jlKTII",
        "colab_type": "text"
      },
      "source": [
        "## Install detectron2 and dependencies"
      ]
    },
    {
      "cell_type": "code",
      "metadata": {
        "id": "9_FzH13EjseR",
        "colab_type": "code",
        "outputId": "bf5cd83d-50f3-46c8-f19b-ca01449cb656",
        "colab": {
          "base_uri": "https://localhost:8080/",
          "height": 1000
        }
      },
      "source": [
        "# install dependencies:\n",
        "# (use +cu100 because colab is on CUDA 10.0)\n",
        "!pip install -U torch==1.4+cu100 torchvision==0.5+cu100 -f https://download.pytorch.org/whl/torch_stable.html \n",
        "!pip install cython pyyaml==5.1\n",
        "!pip install -U 'git+https://github.com/cocodataset/cocoapi.git#subdirectory=PythonAPI'\n",
        "import torch, torchvision\n",
        "torch.__version__\n",
        "!gcc --version\n",
        "# opencv is pre-installed on colab"
      ],
      "execution_count": 1,
      "outputs": [
        {
          "output_type": "stream",
          "text": [
            "Looking in links: https://download.pytorch.org/whl/torch_stable.html\n",
            "Collecting torch==1.4+cu100\n",
            "\u001b[?25l  Downloading https://download.pytorch.org/whl/cu100/torch-1.4.0%2Bcu100-cp36-cp36m-linux_x86_64.whl (723.9MB)\n",
            "\u001b[K     |████████████████████████████████| 723.9MB 24kB/s \n",
            "\u001b[?25hCollecting torchvision==0.5+cu100\n",
            "\u001b[?25l  Downloading https://download.pytorch.org/whl/cu100/torchvision-0.5.0%2Bcu100-cp36-cp36m-linux_x86_64.whl (4.0MB)\n",
            "\u001b[K     |████████████████████████████████| 4.1MB 106kB/s \n",
            "\u001b[?25hRequirement already satisfied, skipping upgrade: six in /usr/local/lib/python3.6/dist-packages (from torchvision==0.5+cu100) (1.12.0)\n",
            "Requirement already satisfied, skipping upgrade: pillow>=4.1.1 in /usr/local/lib/python3.6/dist-packages (from torchvision==0.5+cu100) (6.2.2)\n",
            "Requirement already satisfied, skipping upgrade: numpy in /usr/local/lib/python3.6/dist-packages (from torchvision==0.5+cu100) (1.17.5)\n",
            "Installing collected packages: torch, torchvision\n",
            "  Found existing installation: torch 1.4.0\n",
            "    Uninstalling torch-1.4.0:\n",
            "      Successfully uninstalled torch-1.4.0\n",
            "  Found existing installation: torchvision 0.5.0\n",
            "    Uninstalling torchvision-0.5.0:\n",
            "      Successfully uninstalled torchvision-0.5.0\n",
            "Successfully installed torch-1.4.0+cu100 torchvision-0.5.0+cu100\n",
            "Requirement already satisfied: cython in /usr/local/lib/python3.6/dist-packages (0.29.14)\n",
            "Collecting pyyaml==5.1\n",
            "\u001b[?25l  Downloading https://files.pythonhosted.org/packages/9f/2c/9417b5c774792634834e730932745bc09a7d36754ca00acf1ccd1ac2594d/PyYAML-5.1.tar.gz (274kB)\n",
            "\u001b[K     |████████████████████████████████| 276kB 3.4MB/s \n",
            "\u001b[?25hBuilding wheels for collected packages: pyyaml\n",
            "  Building wheel for pyyaml (setup.py) ... \u001b[?25l\u001b[?25hdone\n",
            "  Created wheel for pyyaml: filename=PyYAML-5.1-cp36-cp36m-linux_x86_64.whl size=44074 sha256=faadb36bac13220d70a838b7b806e1dc7e0084181ca5a483234f448604b9382e\n",
            "  Stored in directory: /root/.cache/pip/wheels/ad/56/bc/1522f864feb2a358ea6f1a92b4798d69ac783a28e80567a18b\n",
            "Successfully built pyyaml\n",
            "Installing collected packages: pyyaml\n",
            "  Found existing installation: PyYAML 3.13\n",
            "    Uninstalling PyYAML-3.13:\n",
            "      Successfully uninstalled PyYAML-3.13\n",
            "Successfully installed pyyaml-5.1\n",
            "Collecting git+https://github.com/cocodataset/cocoapi.git#subdirectory=PythonAPI\n",
            "  Cloning https://github.com/cocodataset/cocoapi.git to /tmp/pip-req-build-47ahl_7e\n",
            "  Running command git clone -q https://github.com/cocodataset/cocoapi.git /tmp/pip-req-build-47ahl_7e\n",
            "Requirement already satisfied, skipping upgrade: setuptools>=18.0 in /usr/local/lib/python3.6/dist-packages (from pycocotools==2.0) (45.1.0)\n",
            "Requirement already satisfied, skipping upgrade: cython>=0.27.3 in /usr/local/lib/python3.6/dist-packages (from pycocotools==2.0) (0.29.14)\n",
            "Requirement already satisfied, skipping upgrade: matplotlib>=2.1.0 in /usr/local/lib/python3.6/dist-packages (from pycocotools==2.0) (3.1.2)\n",
            "Requirement already satisfied, skipping upgrade: kiwisolver>=1.0.1 in /usr/local/lib/python3.6/dist-packages (from matplotlib>=2.1.0->pycocotools==2.0) (1.1.0)\n",
            "Requirement already satisfied, skipping upgrade: cycler>=0.10 in /usr/local/lib/python3.6/dist-packages (from matplotlib>=2.1.0->pycocotools==2.0) (0.10.0)\n",
            "Requirement already satisfied, skipping upgrade: pyparsing!=2.0.4,!=2.1.2,!=2.1.6,>=2.0.1 in /usr/local/lib/python3.6/dist-packages (from matplotlib>=2.1.0->pycocotools==2.0) (2.4.6)\n",
            "Requirement already satisfied, skipping upgrade: python-dateutil>=2.1 in /usr/local/lib/python3.6/dist-packages (from matplotlib>=2.1.0->pycocotools==2.0) (2.6.1)\n",
            "Requirement already satisfied, skipping upgrade: numpy>=1.11 in /usr/local/lib/python3.6/dist-packages (from matplotlib>=2.1.0->pycocotools==2.0) (1.17.5)\n",
            "Requirement already satisfied, skipping upgrade: six in /usr/local/lib/python3.6/dist-packages (from cycler>=0.10->matplotlib>=2.1.0->pycocotools==2.0) (1.12.0)\n",
            "Building wheels for collected packages: pycocotools\n",
            "  Building wheel for pycocotools (setup.py) ... \u001b[?25l\u001b[?25hdone\n",
            "  Created wheel for pycocotools: filename=pycocotools-2.0-cp36-cp36m-linux_x86_64.whl size=275257 sha256=2760f86a94eb04d1c636a492292854ce3c5886b6ec677a89c8610ba3c2193a78\n",
            "  Stored in directory: /tmp/pip-ephem-wheel-cache-24tbee9d/wheels/90/51/41/646daf401c3bc408ff10de34ec76587a9b3ebfac8d21ca5c3a\n",
            "Successfully built pycocotools\n",
            "Installing collected packages: pycocotools\n",
            "  Found existing installation: pycocotools 2.0.0\n",
            "    Uninstalling pycocotools-2.0.0:\n",
            "      Successfully uninstalled pycocotools-2.0.0\n",
            "Successfully installed pycocotools-2.0\n",
            "gcc (Ubuntu 7.4.0-1ubuntu1~18.04.1) 7.4.0\n",
            "Copyright (C) 2017 Free Software Foundation, Inc.\n",
            "This is free software; see the source for copying conditions.  There is NO\n",
            "warranty; not even for MERCHANTABILITY or FITNESS FOR A PARTICULAR PURPOSE.\n",
            "\n"
          ],
          "name": "stdout"
        }
      ]
    },
    {
      "cell_type": "code",
      "metadata": {
        "id": "b-i4hmGYk1dL",
        "colab_type": "code",
        "outputId": "f41bdc1b-2432-49e3-b8d9-d2783ca0d139",
        "colab": {
          "base_uri": "https://localhost:8080/",
          "height": 568
        }
      },
      "source": [
        "# install detectron2:\n",
        "# !git clone https://github.com/facebookresearch/detectron2 detectron2_repo\n",
        "!pip install -e detectron2_repo"
      ],
      "execution_count": 2,
      "outputs": [
        {
          "output_type": "stream",
          "text": [
            "Obtaining file:///content/detectron2_repo\n",
            "Requirement already satisfied: termcolor>=1.1 in /usr/local/lib/python3.6/dist-packages (from detectron2==0.1) (1.1.0)\n",
            "Requirement already satisfied: Pillow==6.2.2 in /usr/local/lib/python3.6/dist-packages (from detectron2==0.1) (6.2.2)\n",
            "Requirement already satisfied: yacs>=0.1.6 in /usr/local/lib/python3.6/dist-packages (from detectron2==0.1) (0.1.6)\n",
            "Requirement already satisfied: tabulate in /usr/local/lib/python3.6/dist-packages (from detectron2==0.1) (0.8.6)\n",
            "Requirement already satisfied: cloudpickle in /usr/local/lib/python3.6/dist-packages (from detectron2==0.1) (1.2.2)\n",
            "Requirement already satisfied: matplotlib in /usr/local/lib/python3.6/dist-packages (from detectron2==0.1) (3.1.2)\n",
            "Requirement already satisfied: tqdm>4.29.0 in /usr/local/lib/python3.6/dist-packages (from detectron2==0.1) (4.42.1)\n",
            "Requirement already satisfied: tensorboard in /usr/local/lib/python3.6/dist-packages (from detectron2==0.1) (1.15.0)\n",
            "Requirement already satisfied: fvcore in /usr/local/lib/python3.6/dist-packages (from detectron2==0.1) (0.1.dev200203)\n",
            "Requirement already satisfied: future in /usr/local/lib/python3.6/dist-packages (from detectron2==0.1) (0.16.0)\n",
            "Requirement already satisfied: pydot in /usr/local/lib/python3.6/dist-packages (from detectron2==0.1) (1.3.0)\n",
            "Requirement already satisfied: PyYAML in /usr/local/lib/python3.6/dist-packages (from yacs>=0.1.6->detectron2==0.1) (5.1)\n",
            "Requirement already satisfied: cycler>=0.10 in /usr/local/lib/python3.6/dist-packages (from matplotlib->detectron2==0.1) (0.10.0)\n",
            "Requirement already satisfied: python-dateutil>=2.1 in /usr/local/lib/python3.6/dist-packages (from matplotlib->detectron2==0.1) (2.6.1)\n",
            "Requirement already satisfied: kiwisolver>=1.0.1 in /usr/local/lib/python3.6/dist-packages (from matplotlib->detectron2==0.1) (1.1.0)\n",
            "Requirement already satisfied: numpy>=1.11 in /usr/local/lib/python3.6/dist-packages (from matplotlib->detectron2==0.1) (1.17.5)\n",
            "Requirement already satisfied: pyparsing!=2.0.4,!=2.1.2,!=2.1.6,>=2.0.1 in /usr/local/lib/python3.6/dist-packages (from matplotlib->detectron2==0.1) (2.4.6)\n",
            "Requirement already satisfied: werkzeug>=0.11.15 in /usr/local/lib/python3.6/dist-packages (from tensorboard->detectron2==0.1) (0.16.1)\n",
            "Requirement already satisfied: protobuf>=3.6.0 in /usr/local/lib/python3.6/dist-packages (from tensorboard->detectron2==0.1) (3.10.0)\n",
            "Requirement already satisfied: markdown>=2.6.8 in /usr/local/lib/python3.6/dist-packages (from tensorboard->detectron2==0.1) (3.1.1)\n",
            "Requirement already satisfied: wheel>=0.26; python_version >= \"3\" in /usr/local/lib/python3.6/dist-packages (from tensorboard->detectron2==0.1) (0.34.2)\n",
            "Requirement already satisfied: setuptools>=41.0.0 in /usr/local/lib/python3.6/dist-packages (from tensorboard->detectron2==0.1) (45.1.0)\n",
            "Requirement already satisfied: absl-py>=0.4 in /usr/local/lib/python3.6/dist-packages (from tensorboard->detectron2==0.1) (0.9.0)\n",
            "Requirement already satisfied: six>=1.10.0 in /usr/local/lib/python3.6/dist-packages (from tensorboard->detectron2==0.1) (1.12.0)\n",
            "Requirement already satisfied: grpcio>=1.6.3 in /usr/local/lib/python3.6/dist-packages (from tensorboard->detectron2==0.1) (1.15.0)\n",
            "Requirement already satisfied: portalocker in /usr/local/lib/python3.6/dist-packages (from fvcore->detectron2==0.1) (1.5.2)\n",
            "Installing collected packages: detectron2\n",
            "  Running setup.py develop for detectron2\n",
            "Successfully installed detectron2\n"
          ],
          "name": "stdout"
        }
      ]
    },
    {
      "cell_type": "code",
      "metadata": {
        "id": "ZyAvNCJMmvFF",
        "colab_type": "code",
        "colab": {}
      },
      "source": [
        "# You may need to restart your runtime prior to this, to let your installation take effect\n",
        "# Some basic setup:\n",
        "# Setup detectron2 logger\n",
        "import detectron2\n",
        "from detectron2.utils.logger import setup_logger\n",
        "setup_logger()\n",
        "\n",
        "# import some common libraries\n",
        "import numpy as np\n",
        "import cv2\n",
        "import random\n",
        "from google.colab.patches import cv2_imshow\n",
        "\n",
        "# import some common detectron2 utilities\n",
        "from detectron2 import model_zoo\n",
        "from detectron2.engine import DefaultPredictor\n",
        "from detectron2.config import get_cfg\n",
        "from detectron2.utils.visualizer import Visualizer\n",
        "from detectron2.data import MetadataCatalog"
      ],
      "execution_count": 0,
      "outputs": []
    },
    {
      "cell_type": "markdown",
      "metadata": {
        "id": "zVjt6NO0gQsy",
        "colab_type": "text"
      },
      "source": [
        "## Clone detectron2-pipeline"
      ]
    },
    {
      "cell_type": "code",
      "metadata": {
        "id": "u27AhelogPUo",
        "colab_type": "code",
        "colab": {
          "base_uri": "https://localhost:8080/",
          "height": 164
        },
        "outputId": "fe5eb779-2847-4407-c1ed-161a94326ade"
      },
      "source": [
        "!git clone git://github.com/jagin/detectron2-pipeline.git"
      ],
      "execution_count": 1,
      "outputs": [
        {
          "output_type": "stream",
          "text": [
            "Cloning into 'detectron2-pipeline'...\n",
            "remote: Enumerating objects: 117, done.\u001b[K\n",
            "remote: Counting objects:   0% (1/117)\u001b[K\rremote: Counting objects:   1% (2/117)\u001b[K\rremote: Counting objects:   2% (3/117)\u001b[K\rremote: Counting objects:   3% (4/117)\u001b[K\rremote: Counting objects:   4% (5/117)\u001b[K\rremote: Counting objects:   5% (6/117)\u001b[K\rremote: Counting objects:   6% (8/117)\u001b[K\rremote: Counting objects:   7% (9/117)\u001b[K\rremote: Counting objects:   8% (10/117)\u001b[K\rremote: Counting objects:   9% (11/117)\u001b[K\rremote: Counting objects:  10% (12/117)\u001b[K\rremote: Counting objects:  11% (13/117)\u001b[K\rremote: Counting objects:  12% (15/117)\u001b[K\rremote: Counting objects:  13% (16/117)\u001b[K\rremote: Counting objects:  14% (17/117)\u001b[K\rremote: Counting objects:  15% (18/117)\u001b[K\rremote: Counting objects:  16% (19/117)\u001b[K\rremote: Counting objects:  17% (20/117)\u001b[K\rremote: Counting objects:  18% (22/117)\u001b[K\rremote: Counting objects:  19% (23/117)\u001b[K\rremote: Counting objects:  20% (24/117)\u001b[K\rremote: Counting objects:  21% (25/117)\u001b[K\rremote: Counting objects:  22% (26/117)\u001b[K\rremote: Counting objects:  23% (27/117)\u001b[K\rremote: Counting objects:  24% (29/117)\u001b[K\rremote: Counting objects:  25% (30/117)\u001b[K\rremote: Counting objects:  26% (31/117)\u001b[K\rremote: Counting objects:  27% (32/117)\u001b[K\rremote: Counting objects:  28% (33/117)\u001b[K\rremote: Counting objects:  29% (34/117)\u001b[K\rremote: Counting objects:  30% (36/117)\u001b[K\rremote: Counting objects:  31% (37/117)\u001b[K\rremote: Counting objects:  32% (38/117)\u001b[K\rremote: Counting objects:  33% (39/117)\u001b[K\rremote: Counting objects:  34% (40/117)\u001b[K\rremote: Counting objects:  35% (41/117)\u001b[K\rremote: Counting objects:  36% (43/117)\u001b[K\rremote: Counting objects:  37% (44/117)\u001b[K\rremote: Counting objects:  38% (45/117)\u001b[K\rremote: Counting objects:  39% (46/117)\u001b[K\rremote: Counting objects:  40% (47/117)\u001b[K\rremote: Counting objects:  41% (48/117)\u001b[K\rremote: Counting objects:  42% (50/117)\u001b[K\rremote: Counting objects:  43% (51/117)\u001b[K\rremote: Counting objects:  44% (52/117)\u001b[K\rremote: Counting objects:  45% (53/117)\u001b[K\rremote: Counting objects:  46% (54/117)\u001b[K\rremote: Counting objects:  47% (55/117)\u001b[K\rremote: Counting objects:  48% (57/117)\u001b[K\rremote: Counting objects:  49% (58/117)\u001b[K\rremote: Counting objects:  50% (59/117)\u001b[K\rremote: Counting objects:  51% (60/117)\u001b[K\rremote: Counting objects:  52% (61/117)\u001b[K\rremote: Counting objects:  53% (63/117)\u001b[K\rremote: Counting objects:  54% (64/117)\u001b[K\rremote: Counting objects:  55% (65/117)\u001b[K\rremote: Counting objects:  56% (66/117)\u001b[K\rremote: Counting objects:  57% (67/117)\u001b[K\rremote: Counting objects:  58% (68/117)\u001b[K\rremote: Counting objects:  59% (70/117)\u001b[K\rremote: Counting objects:  60% (71/117)\u001b[K\rremote: Counting objects:  61% (72/117)\u001b[K\rremote: Counting objects:  62% (73/117)\u001b[K\rremote: Counting objects:  63% (74/117)\u001b[K\rremote: Counting objects:  64% (75/117)\u001b[K\rremote: Counting objects:  65% (77/117)\u001b[K\rremote: Counting objects:  66% (78/117)\u001b[K\rremote: Counting objects:  67% (79/117)\u001b[K\rremote: Counting objects:  68% (80/117)\u001b[K\rremote: Counting objects:  69% (81/117)\u001b[K\rremote: Counting objects:  70% (82/117)\u001b[K\rremote: Counting objects:  71% (84/117)\u001b[K\rremote: Counting objects:  72% (85/117)\u001b[K\rremote: Counting objects:  73% (86/117)\u001b[K\rremote: Counting objects:  74% (87/117)\u001b[K\rremote: Counting objects:  75% (88/117)\u001b[K\rremote: Counting objects:  76% (89/117)\u001b[K\rremote: Counting objects:  77% (91/117)\u001b[K\rremote: Counting objects:  78% (92/117)\u001b[K\rremote: Counting objects:  79% (93/117)\u001b[K\rremote: Counting objects:  80% (94/117)\u001b[K\rremote: Counting objects:  81% (95/117)\u001b[K\rremote: Counting objects:  82% (96/117)\u001b[K\rremote: Counting objects:  83% (98/117)\u001b[K\rremote: Counting objects:  84% (99/117)\u001b[K\rremote: Counting objects:  85% (100/117)\u001b[K\rremote: Counting objects:  86% (101/117)\u001b[K\rremote: Counting objects:  87% (102/117)\u001b[K\rremote: Counting objects:  88% (103/117)\u001b[K\rremote: Counting objects:  89% (105/117)\u001b[K\rremote: Counting objects:  90% (106/117)\u001b[K\rremote: Counting objects:  91% (107/117)\u001b[K\rremote: Counting objects:  92% (108/117)\u001b[K\rremote: Counting objects:  93% (109/117)\u001b[K\rremote: Counting objects:  94% (110/117)\u001b[K\rremote: Counting objects:  95% (112/117)\u001b[K\rremote: Counting objects:  96% (113/117)\u001b[K\rremote: Counting objects:  97% (114/117)\u001b[K\rremote: Counting objects:  98% (115/117)\u001b[K\rremote: Counting objects:  99% (116/117)\u001b[K\rremote: Counting objects: 100% (117/117)\u001b[K\rremote: Counting objects: 100% (117/117), done.\u001b[K\n",
            "remote: Compressing objects: 100% (94/94), done.\u001b[K\n",
            "remote: Total 117 (delta 37), reused 100 (delta 21), pack-reused 0\u001b[K\n",
            "Receiving objects: 100% (117/117), 9.91 MiB | 30.93 MiB/s, done.\n",
            "Resolving deltas: 100% (37/37), done.\n",
            "fatal: not a git repository (or any of the parent directories): .git\n"
          ],
          "name": "stdout"
        }
      ]
    },
    {
      "cell_type": "code",
      "metadata": {
        "id": "pPiQh_JRgO_d",
        "colab_type": "code",
        "colab": {
          "base_uri": "https://localhost:8080/",
          "height": 35
        },
        "outputId": "45127e40-62f9-43b4-a3d1-3d53c7450745"
      },
      "source": [
        "%cd detectron2-pipeline"
      ],
      "execution_count": 5,
      "outputs": [
        {
          "output_type": "stream",
          "text": [
            "/content/detectron2-pipeline\n"
          ],
          "name": "stdout"
        }
      ]
    },
    {
      "cell_type": "code",
      "metadata": {
        "id": "pOvJj-hcgqwx",
        "colab_type": "code",
        "colab": {
          "base_uri": "https://localhost:8080/",
          "height": 35
        },
        "outputId": "21f91e0a-c5a1-470d-c927-2d75e395aa31"
      },
      "source": [
        "!pwd"
      ],
      "execution_count": 6,
      "outputs": [
        {
          "output_type": "stream",
          "text": [
            "/content/detectron2-pipeline\n"
          ],
          "name": "stdout"
        }
      ]
    },
    {
      "cell_type": "code",
      "metadata": {
        "id": "Cmxgbuj6gotc",
        "colab_type": "code",
        "colab": {
          "base_uri": "https://localhost:8080/",
          "height": 237
        },
        "outputId": "2c3a8db0-579c-4bc8-9c79-0979d1d6a482"
      },
      "source": [
        "!git checkout 9460e3806c3ef5208ba8e5b4099fcb75ef6f39d1"
      ],
      "execution_count": 7,
      "outputs": [
        {
          "output_type": "stream",
          "text": [
            "Note: checking out '9460e3806c3ef5208ba8e5b4099fcb75ef6f39d1'.\n",
            "\n",
            "You are in 'detached HEAD' state. You can look around, make experimental\n",
            "changes and commit them, and you can discard any commits you make in this\n",
            "state without impacting any branches by performing another checkout.\n",
            "\n",
            "If you want to create a new branch to retain commits you create, you may\n",
            "do so (now or later) by using -b with the checkout command again. Example:\n",
            "\n",
            "  git checkout -b <new-branch-name>\n",
            "\n",
            "HEAD is now at 9460e38 README.md update\n"
          ],
          "name": "stdout"
        }
      ]
    },
    {
      "cell_type": "markdown",
      "metadata": {
        "id": "paPQHcyPlg21",
        "colab_type": "text"
      },
      "source": [
        "---\n",
        "\n",
        "## Background separation"
      ]
    },
    {
      "cell_type": "code",
      "metadata": {
        "id": "oSJuOKOQl_p3",
        "colab_type": "code",
        "colab": {
          "base_uri": "https://localhost:8080/",
          "height": 54
        },
        "outputId": "69f1161b-db36-4646-bbc4-3523470be6d1"
      },
      "source": [
        "%cd detectron2-pipeline/"
      ],
      "execution_count": 9,
      "outputs": [
        {
          "output_type": "stream",
          "text": [
            "[Errno 2] No such file or directory: 'detectron2-pipeline/'\n",
            "/content/detectron2-pipeline\n"
          ],
          "name": "stdout"
        }
      ]
    },
    {
      "cell_type": "code",
      "metadata": {
        "id": "RZOzRSvIoMFv",
        "colab_type": "code",
        "colab": {
          "base_uri": "https://localhost:8080/",
          "height": 127
        },
        "outputId": "73b0d58d-3343-436b-d604-510edbffc640"
      },
      "source": [
        "!python process_images.py -i assets/images/others/couple.jpg -sb"
      ],
      "execution_count": 6,
      "outputs": [
        {
          "output_type": "stream",
          "text": [
            "Traceback (most recent call last):\n",
            "  File \"process_images.py\", line 7, in <module>\n",
            "    from pipeline.predict import Predict\n",
            "  File \"/content/detectron2-pipeline/pipeline/predict.py\", line 3, in <module>\n",
            "    from detectron2.engine.defaults import DefaultPredictor\n",
            "ModuleNotFoundError: No module named 'detectron2'\n"
          ],
          "name": "stdout"
        }
      ]
    },
    {
      "cell_type": "code",
      "metadata": {
        "id": "YKggGz5voNOF",
        "colab_type": "code",
        "colab": {}
      },
      "source": [
        "# pipeline/separate_background.py\n",
        "\n",
        "from pipeline.pipeline import Pipeline\n",
        "\n",
        "import numpy as np\n",
        "import cv2\n",
        "\n",
        "\n",
        "class SeparateBackground(Pipeline):\n",
        "\n",
        "    def __init__(self, dst, me_kernel=(7, 7), bg_kernel=(21, 21), desaturate=True):\n",
        "        self.dst = dst\n",
        "        self.me_kernel = me_kernel  # mask edges gaussian blur kernel\n",
        "        self.bg_kernel = bg_kernel  # background gaussian blur kernel\n",
        "        self.desaturate = desaturate  # convert background to grayscale\n",
        "\n",
        "        super().__init__()\n",
        "\n",
        "    def map(self, data):\n",
        "        self.separate_background(data)\n",
        "\n",
        "        return data\n",
        "\n",
        "    def separate_background(self, data):\n",
        "        if \"predictions\" not in data:\n",
        "            return\n",
        "\n",
        "        predictions = data[\"predictions\"]\n",
        "        if \"instances\" not in predictions:\n",
        "            return\n",
        "\n",
        "        instances = predictions[\"instances\"]\n",
        "        if not instances.has(\"pred_masks\"):\n",
        "            return\n",
        "\n",
        "        # Sum up all the instance masks\n",
        "        mask = instances.pred_masks.cpu().sum(0) >= 1\n",
        "        mask = mask.numpy().astype(\"uint8\")*255\n",
        "        # Create 3-channels mask\n",
        "        mask = np.stack([mask, mask, mask], axis=2)\n",
        "\n",
        "        # Apply a slight blur to the mask to soften edges\n",
        "        mask = cv2.GaussianBlur(mask, self.me_kernel, 0)\n",
        "\n",
        "        # Take the foreground input image\n",
        "        foreground = data[\"image\"]\n",
        "\n",
        "        # Create a Gaussian blur for the background image\n",
        "        background = cv2.GaussianBlur(foreground, self.bg_kernel, 0)\n",
        "\n",
        "        if self.desaturate:\n",
        "            # Convert background into grayscale\n",
        "            background = cv2.cvtColor(background, cv2.COLOR_BGR2GRAY)\n",
        "\n",
        "            # convert single channel grayscale image to 3-channel grayscale image\n",
        "            background = cv2.cvtColor(background, cv2.COLOR_GRAY2RGB)\n",
        "\n",
        "        # Convert uint8 to float\n",
        "        foreground = foreground.astype(float)\n",
        "        background = background.astype(float)\n",
        "\n",
        "        # Normalize the alpha mask to keep intensity between 0 and 1\n",
        "        mask = mask.astype(float)/255.0\n",
        "\n",
        "        # Multiply the foreground with the mask\n",
        "        foreground = cv2.multiply(foreground, mask)\n",
        "\n",
        "        # Multiply the background with ( 1 - mask )\n",
        "        background = cv2.multiply(background, 1.0 - mask)\n",
        "\n",
        "        # Add the masked foreground and background\n",
        "        dst_image = cv2.add(foreground, background)\n",
        "\n",
        "        # Return a normalized output image for display\n",
        "        data[self.dst] = dst_image.astype(\"uint8\")"
      ],
      "execution_count": 0,
      "outputs": []
    },
    {
      "cell_type": "code",
      "metadata": {
        "id": "HnU4GZmupmL1",
        "colab_type": "code",
        "colab": {}
      },
      "source": [
        "import os\n",
        "from tqdm import tqdm\n",
        "import multiprocessing as mp\n",
        "\n",
        "from pipeline.capture_images import CaptureImages\n",
        "from pipeline.capture_image import CaptureImage\n",
        "from pipeline.predict import Predict\n",
        "from pipeline.async_predict import AsyncPredict\n",
        "from pipeline.separate_background import SeparateBackground\n",
        "from pipeline.annotate_image import AnnotateImage\n",
        "from pipeline.save_image import SaveImage\n",
        "from pipeline.utils import detectron\n",
        "\n",
        "\n",
        "def process_images(\n",
        "    input_path,\n",
        "    output_path = \"output\",\n",
        "    config_file = \"configs/COCO-InstanceSegmentation/mask_rcnn_R_50_FPN_3x.yaml\",\n",
        "    weights_file = None,\n",
        "    config_opts = [],\n",
        "    confidence_threshold = 0.5,\n",
        "    gpus = 1,\n",
        "    cpus = 0,\n",
        "    single_process = True,\n",
        "    queue_size = 3,\n",
        "    separate_background = True,\n",
        "    progress = True,\n",
        "):\n",
        "    # Create output directory if needed\n",
        "    os.makedirs(output_path, exist_ok=True)\n",
        "\n",
        "    # Create pipeline steps\n",
        "    capture_images = CaptureImages(input_path) \\\n",
        "        if os.path.isdir(input_path) else CaptureImage(input_path)\n",
        "\n",
        "    cfg = detectron.setup_cfg(config_file=config_file,\n",
        "                              weights_file=weights_file,\n",
        "                              config_opts=config_opts,\n",
        "                              confidence_threshold=confidence_threshold,\n",
        "                              cpu=False if gpus > 0 else True)\n",
        "    if not single_process:\n",
        "        mp.set_start_method(\"spawn\", force=True)\n",
        "        predict = AsyncPredict(cfg,\n",
        "                               num_gpus=gpus,\n",
        "                               num_cpus=cpus,\n",
        "                               queue_size=queue_size,\n",
        "                               ordered=False)\n",
        "    else:\n",
        "        predict = Predict(cfg)\n",
        "\n",
        "    if separate_background:\n",
        "        separate_background = SeparateBackground(\"vis_image\")\n",
        "        annotate_image = None\n",
        "    else:\n",
        "        separate_background = None\n",
        "        metadata_name = cfg.DATASETS.TEST[0] if len(cfg.DATASETS.TEST) else \"__unused\"\n",
        "        annotate_image = AnnotateImage(\"vis_image\", metadata_name)\n",
        "\n",
        "    save_image = SaveImage(\"vis_image\", output_path)\n",
        "\n",
        "    # Create image processing pipeline\n",
        "    pipeline = (capture_images |\n",
        "                predict |\n",
        "                separate_background |\n",
        "                annotate_image |\n",
        "                save_image)\n",
        "\n",
        "    # Iterate through pipeline\n",
        "    try:\n",
        "        for _ in tqdm(pipeline, disable=not progress):\n",
        "            pass\n",
        "    except StopIteration:\n",
        "        return\n",
        "    except KeyboardInterrupt:\n",
        "        return\n",
        "    finally:\n",
        "        # Pipeline cleanup\n",
        "        if isinstance(predict, AsyncPredict):\n",
        "            predict.cleanup()"
      ],
      "execution_count": 0,
      "outputs": []
    },
    {
      "cell_type": "code",
      "metadata": {
        "id": "q5YuZfEup23i",
        "colab_type": "code",
        "colab": {
          "base_uri": "https://localhost:8080/",
          "height": 54
        },
        "outputId": "a4b412b3-fc99-4bae-be2f-831de2decb6c"
      },
      "source": [
        "# Input the path as the only non-default parameter\n",
        "input_path = \"assets/images/others/couple.jpg\"\n",
        "\n",
        "process_images(input_path)\n"
      ],
      "execution_count": 19,
      "outputs": [
        {
          "output_type": "stream",
          "text": [
            "model_final_f10217.pkl: 178MB [00:06, 27.2MB/s]                           \n",
            "1it [00:00,  3.03it/s]\n"
          ],
          "name": "stderr"
        }
      ]
    },
    {
      "cell_type": "code",
      "metadata": {
        "id": "iPibfAFk0NXm",
        "colab_type": "code",
        "colab": {
          "base_uri": "https://localhost:8080/",
          "height": 35
        },
        "outputId": "f749a10f-f330-48b1-83e1-c24b2ab4baec"
      },
      "source": [
        "# Test it out on some trashpanda training images\n",
        "input_path = \"assets/images/trashpanda\"\n",
        "\n",
        "process_images(input_path)\n"
      ],
      "execution_count": 20,
      "outputs": [
        {
          "output_type": "stream",
          "text": [
            "43it [00:07,  6.11it/s]\n"
          ],
          "name": "stderr"
        }
      ]
    },
    {
      "cell_type": "code",
      "metadata": {
        "id": "Fr47e-kT1EmI",
        "colab_type": "code",
        "colab": {}
      },
      "source": [
        ""
      ],
      "execution_count": 0,
      "outputs": []
    }
  ]
}