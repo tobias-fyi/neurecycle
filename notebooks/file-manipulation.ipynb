{
 "nbformat": 4,
 "nbformat_minor": 2,
 "metadata": {
  "language_info": {
   "name": "python",
   "codemirror_mode": {
    "name": "ipython",
    "version": 3
   },
   "version": "3.7.6-final"
  },
  "orig_nbformat": 2,
  "file_extension": ".py",
  "mimetype": "text/x-python",
  "name": "python",
  "npconvert_exporter": "python",
  "pygments_lexer": "ipython3",
  "version": 3,
  "kernelspec": {
   "name": "python37664bitneurecyclepipenv91a9081ec64f4ac395e57c8515b00f9f",
   "display_name": "Python 3.7.6 64-bit ('neurecycle': pipenv)"
  }
 },
 "cells": [
  {
   "cell_type": "markdown",
   "execution_count": null,
   "metadata": {},
   "outputs": [],
   "source": [
    "# File System Manipulation With Python\n",
    "\n",
    "By Tobias Reaper\n",
    "\n",
    "1. Rename files to add padding to sequentially-numbered files\n",
    "\n",
    "---"
   ]
  },
  {
   "cell_type": "markdown",
   "execution_count": null,
   "metadata": {},
   "outputs": [],
   "source": [
    "## 1. Rename files to add padding to sequentially-numbered files\n",
    "\n",
    "I really hate when sequentially-numbered files are not padded with additional zeros. Some programs / OS's will sort them correctly without the padding, some will not. Here is an example:\n",
    "\n",
    "```\n",
    "517K Jan 30 14:35 1.png\n",
    "824K Jan 30 14:35 10.png\n",
    "582K Jan 30 14:35 11.png\n",
    "514K Jan 30 14:35 12.png\n",
    "...\n",
    "500K Jan 30 14:35 2.png\n",
    "613K Jan 30 14:35 20.png\n",
    "674K Jan 30 14:35 21.png\n",
    "687K Jan 30 14:35 22.png\n",
    "```\n",
    "\n",
    "I find that really annoying. And it's an easy fix using Python..."
   ]
  },
  {
   "cell_type": "code",
   "execution_count": 3,
   "metadata": {},
   "outputs": [],
   "source": [
    "# === Imports === #\n",
    "import os"
   ]
  },
  {
   "cell_type": "code",
   "execution_count": 27,
   "metadata": {},
   "outputs": [
    {
     "name": "stdout",
     "output_type": "stream",
     "text": "/Users/Tobias/workshop/buildbox/neurecycle/assets_/waste_images/trashpanda_v1/paper_mixed\n\t 048.png\n\t 049.png\n\t 008.png\n\t 009.png\n\t 014.png\n\t 028.png\n\t 029.png\n\t 015.png\n\t 017.png\n\t 016.png\n\t 012.png\n\t 013.png\n\t 039.png\n\t 011.png\n\t 010.png\n\t 038.png\n\t 035.png\n\t 021.png\n\t 020.png\n\t 034.png\n\t 022.png\n\t 036.png\n\t 037.png\n\t 023.png\n\t 027.png\n\t 033.png\n\t 032.png\n\t 026.png\n\t 018.png\n\t 030.png\n\t 024.png\n\t 025.png\n\t 031.png\n\t 019.png\n\t 004.png\n\t 042.png\n\t 043.png\n\t 005.png\n\t 041.png\n\t 007.png\n\t 054.png\n\t 006.png\n\t 040.png\n\t 044.png\n\t 002.png\n\t 050.png\n\t 003.png\n\t 051.png\n\t 045.png\n\t 053.png\n\t 001.png\n\t 047.png\n\t 046.png\n\t 052.png\n/Users/Tobias/workshop/buildbox/neurecycle/assets_/waste_images/trashpanda_v1/plastic_film\n\t 048.png\n\t 049.png\n\t 008.png\n\t 009.png\n\t 014.png\n\t 028.png\n\t 029.png\n\t 015.png\n\t 017.png\n\t 016.png\n\t 012.png\n\t 013.png\n\t 039.png\n\t 011.png\n\t 010.png\n\t 038.png\n\t 035.png\n\t 021.png\n\t 020.png\n\t 034.png\n\t 022.png\n\t 036.png\n\t 037.png\n\t 023.png\n\t 027.png\n\t 033.png\n\t 032.png\n\t 026.png\n\t 018.png\n\t 030.png\n\t 024.png\n\t 025.png\n\t 031.png\n\t 019.png\n\t 004.png\n\t 042.png\n\t 043.png\n\t 005.png\n\t 041.png\n\t 007.png\n\t 006.png\n\t 040.png\n\t 044.png\n\t 002.png\n\t 050.png\n\t 003.png\n\t 045.png\n\t 001.png\n\t 047.png\n\t 046.png\n/Users/Tobias/workshop/buildbox/neurecycle/assets_/waste_images/trashpanda_v1/wrappers\n\t 008.png\n\t 009.png\n\t 014.png\n\t 028.png\n\t 029.png\n\t 015.png\n\t 017.png\n\t 016.png\n\t 012.png\n\t 013.png\n\t 011.png\n\t 010.png\n\t 021.png\n\t 020.png\n\t 034.png\n\t 022.png\n\t 023.png\n\t 027.png\n\t 033.png\n\t 032.png\n\t 026.png\n\t 018.png\n\t 030.png\n\t 024.png\n\t 025.png\n\t 031.png\n\t 019.png\n\t 004.png\n\t 005.png\n\t 007.png\n\t 006.png\n\t 002.png\n\t 003.png\n\t 001.png\n/Users/Tobias/workshop/buildbox/neurecycle/assets_/waste_images/trashpanda_v1/glass_bottle\n\t 008.png\n\t 009.png\n\t 014.png\n\t 028.png\n\t 029.png\n\t 015.png\n\t 017.png\n\t 016.png\n\t 012.png\n\t 013.png\n\t 011.png\n\t 010.png\n\t 035.png\n\t 021.png\n\t 020.png\n\t 034.png\n\t 022.png\n\t 036.png\n\t 037.png\n\t 023.png\n\t 027.png\n\t 033.png\n\t 032.png\n\t 026.png\n\t 018.png\n\t 030.png\n\t 024.png\n\t 025.png\n\t 031.png\n\t 019.png\n\t 004.png\n\t 005.png\n\t 007.png\n\t 006.png\n\t 002.png\n\t 003.png\n\t 001.png\n/Users/Tobias/workshop/buildbox/neurecycle/assets_/waste_images/trashpanda_v1/paper_treated\n\t 004.png\n\t 005.png\n\t 002.png\n\t 003.png\n\t 001.png\n/Users/Tobias/workshop/buildbox/neurecycle/assets_/waste_images/trashpanda_v1/aluminum_can_food\n\t 048.png\n\t 008.png\n\t 009.png\n\t 014.png\n\t 028.png\n\t 029.png\n\t 015.png\n\t 017.png\n\t 016.png\n\t 012.png\n\t 013.png\n\t 039.png\n\t 011.png\n\t 010.png\n\t 038.png\n\t 035.png\n\t 021.png\n\t 020.png\n\t 034.png\n\t 022.png\n\t 036.png\n\t 037.png\n\t 023.png\n\t 027.png\n\t 033.png\n\t 032.png\n\t 026.png\n\t 018.png\n\t 030.png\n\t 024.png\n\t 025.png\n\t 031.png\n\t 019.png\n\t 004.png\n\t 042.png\n\t 043.png\n\t 005.png\n\t 041.png\n\t 007.png\n\t 006.png\n\t 040.png\n\t 044.png\n\t 002.png\n\t 003.png\n\t 045.png\n\t 001.png\n\t 047.png\n\t 046.png\n/Users/Tobias/workshop/buildbox/neurecycle/assets_/waste_images/trashpanda_v1/cardboard\n\t 063.png\n\t 062.png\n\t 060.png\n\t 048.png\n\t 049.png\n\t 061.png\n\t 059.png\n\t 065.png\n\t 064.png\n\t 058.png\n\t 008.png\n\t 066.png\n\t 067.png\n\t 009.png\n\t 014.png\n\t 028.png\n\t 029.png\n\t 015.png\n\t 017.png\n\t 016.png\n\t 012.png\n\t 013.png\n\t 039.png\n\t 011.png\n\t 010.png\n\t 038.png\n\t 035.png\n\t 021.png\n\t 020.png\n\t 034.png\n\t 022.png\n\t 036.png\n\t 037.png\n\t 023.png\n\t 027.png\n\t 033.png\n\t 032.png\n\t 026.png\n\t 018.png\n\t 030.png\n\t 024.png\n\t 025.png\n\t 031.png\n\t 019.png\n\t 004.png\n\t 056.png\n\t 042.png\n\t 043.png\n\t 005.png\n\t 057.png\n\t 041.png\n\t 055.png\n\t 007.png\n\t 068.png\n\t 054.png\n\t 006.png\n\t 040.png\n\t 044.png\n\t 002.png\n\t 050.png\n\t 003.png\n\t 051.png\n\t 045.png\n\t 053.png\n\t 001.png\n\t 047.png\n\t 046.png\n\t 052.png\n/Users/Tobias/workshop/buildbox/neurecycle/assets_/waste_images/trashpanda_v1/plastic_bottle\n\t 048.png\n\t 008.png\n\t 009.png\n\t 014.png\n\t 028.png\n\t 029.png\n\t 015.png\n\t 017.png\n\t 016.png\n\t 012.png\n\t 013.png\n\t 039.png\n\t 011.png\n\t 010.png\n\t 038.png\n\t 035.png\n\t 021.png\n\t 020.png\n\t 034.png\n\t 022.png\n\t 036.png\n\t 037.png\n\t 023.png\n\t 027.png\n\t 033.png\n\t 032.png\n\t 026.png\n\t 018.png\n\t 030.png\n\t 024.png\n\t 025.png\n\t 031.png\n\t 019.png\n\t 004.png\n\t 042.png\n\t 043.png\n\t 005.png\n\t 041.png\n\t 007.png\n\t 006.png\n\t 040.png\n\t 044.png\n\t 002.png\n\t 003.png\n\t 045.png\n\t 001.png\n\t 047.png\n\t 046.png\n/Users/Tobias/workshop/buildbox/neurecycle/assets_/waste_images/trashpanda_v1/aluminum_can_beverage\n\t 008.png\n\t 009.png\n\t 014.png\n\t 028.png\n\t 029.png\n\t 015.png\n\t 017.png\n\t 016.png\n\t 012.png\n\t 013.png\n\t 011.png\n\t 010.png\n\t 021.png\n\t 020.png\n\t 022.png\n\t 023.png\n\t 027.png\n\t 026.png\n\t 018.png\n\t 030.png\n\t 024.png\n\t 025.png\n\t 019.png\n\t 004.png\n\t 005.png\n\t 007.png\n\t 006.png\n\t 002.png\n\t 003.png\n\t 001.png\n/Users/Tobias/workshop/buildbox/neurecycle/assets_/waste_images/trashpanda_v1/plastic_bubblewrap\n\t 008.png\n\t 009.png\n\t 014.png\n\t 015.png\n\t 017.png\n\t 016.png\n\t 012.png\n\t 013.png\n\t 011.png\n\t 010.png\n\t 004.png\n\t 005.png\n\t 007.png\n\t 006.png\n\t 002.png\n\t 003.png\n\t 001.png\n/Users/Tobias/workshop/buildbox/neurecycle/assets_/waste_images/trashpanda_v1/plastic_container_food\n\t 077.png\n\t 063.png\n\t 062.png\n\t 076.png\n\t 060.png\n\t 074.png\n\t 048.png\n\t 049.png\n\t 075.png\n\t 061.png\n\t 059.png\n\t 065.png\n\t 071.png\n\t 070.png\n\t 064.png\n\t 058.png\n\t 008.png\n\t 072.png\n\t 066.png\n\t 067.png\n\t 073.png\n\t 009.png\n\t 014.png\n\t 028.png\n\t 029.png\n\t 015.png\n\t 017.png\n\t 016.png\n\t 012.png\n\t 013.png\n\t 039.png\n\t 011.png\n\t 010.png\n\t 038.png\n\t 035.png\n\t 021.png\n\t 020.png\n\t 034.png\n\t 022.png\n\t 036.png\n\t 037.png\n\t 023.png\n\t 027.png\n\t 033.png\n\t 032.png\n\t 026.png\n\t 018.png\n\t 030.png\n\t 024.png\n\t 025.png\n\t 031.png\n\t 019.png\n\t 004.png\n\t 056.png\n\t 042.png\n\t 043.png\n\t 005.png\n\t 057.png\n\t 080.png\n\t 041.png\n\t 055.png\n\t 007.png\n\t 069.png\n\t 068.png\n\t 054.png\n\t 006.png\n\t 040.png\n\t 078.png\n\t 044.png\n\t 002.png\n\t 050.png\n\t 003.png\n\t 051.png\n\t 045.png\n\t 079.png\n\t 053.png\n\t 001.png\n\t 047.png\n\t 046.png\n\t 052.png\n"
    }
   ],
   "source": [
    "# === Loop to rename all files under root === #\n",
    "# Set up working dir\n",
    "root_dir = \"/Users/Tobias/workshop/buildbox/neurecycle/assets_/waste_images/trashpanda_v1\"\n",
    "\n",
    "# First loop through all directories\n",
    "for subdir in os.listdir(root_dir):\n",
    "    os.chdir(root_dir)  # Move (back) to root\n",
    "    os.chdir(subdir)  # Move to working dir\n",
    "    print(os.getcwd())\n",
    "    # Then loop through all files within the dir\n",
    "    for f in os.listdir():\n",
    "        f_name, f_ext = os.path.splitext(f)\n",
    "        f_new_num = f_name.zfill(3)\n",
    "        f_new_name = f\"{f_new_num}{f_ext}\"\n",
    "\n",
    "        print(f\"\\t {f_new_name}\")\n",
    "\n",
    "        # Rename the file, being sure to use path/filename\n",
    "        os.rename(f, f_new_name)"
   ]
  },
  {
   "cell_type": "code",
   "execution_count": 5,
   "metadata": {},
   "outputs": [
    {
     "name": "stdout",
     "output_type": "stream",
     "text": "008.png\n\t 009.png\n\t 014.png\n\t 028.png\n\t 029.png\n\t 015.png\n\t 017.png\n\t 016.png\n\t 012.png\n\t 013.png\n\t 039.png\n\t 011.png\n\t 010.png\n\t 038.png\n\t 035.png\n\t 021.png\n\t 020.png\n\t 034.png\n\t 022.png\n\t 036.png\n\t 037.png\n\t 023.png\n\t 027.png\n\t 033.png\n\t 032.png\n\t 026.png\n\t 018.png\n\t 030.png\n\t 024.png\n\t 025.png\n\t 031.png\n\t 019.png\n\t 004.png\n\t 005.png\n\t 007.png\n\t 006.png\n\t 040.png\n\t 002.png\n\t 003.png\n\t 001.png\n"
    }
   ],
   "source": [
    "# === Loop to rename all files under root === #\n",
    "# Set up working dir\n",
    "root_dir = \"/Users/Tobias/workshop/buildbox/neurecycle/image_data\"\n",
    "\n",
    "for f in os.listdir():\n",
    "    f_name, f_ext = os.path.splitext(f)\n",
    "    f_new_num = f_name.zfill(3)\n",
    "    f_new_name = f\"{f_new_num}{f_ext}\"\n",
    "\n",
    "    print(f\"\\t {f_new_name}\")\n",
    "\n",
    "    # Rename the file, being sure to use path/filename\n",
    "    os.rename(f, f_new_name)"
   ]
  },
  {
   "cell_type": "code",
   "execution_count": null,
   "metadata": {},
   "outputs": [],
   "source": [
    "/Users/Tobias/workshop/buildbox/neurecycle/image_data"
   ]
  },
  {
   "cell_type": "code",
   "execution_count": null,
   "metadata": {},
   "outputs": [],
   "source": []
  },
  {
   "cell_type": "code",
   "execution_count": null,
   "metadata": {},
   "outputs": [],
   "source": []
  },
  {
   "cell_type": "code",
   "execution_count": null,
   "metadata": {},
   "outputs": [],
   "source": []
  }
 ]
}